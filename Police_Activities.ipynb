{
  "nbformat": 4,
  "nbformat_minor": 0,
  "metadata": {
    "kernelspec": {
      "name": "python3",
      "display_name": "Python 3"
    },
    "colab": {
      "name": "Police Activities.ipynb",
      "provenance": [],
      "collapsed_sections": [],
      "toc_visible": true,
      "include_colab_link": true
    },
    "accelerator": "GPU"
  },
  "cells": [
    {
      "cell_type": "markdown",
      "metadata": {
        "id": "view-in-github",
        "colab_type": "text"
      },
      "source": [
        "<a href=\"https://colab.research.google.com/github/alper-tasci/Projects/blob/master/Police_Activities.ipynb\" target=\"_parent\"><img src=\"https://colab.research.google.com/assets/colab-badge.svg\" alt=\"Open In Colab\"/></a>"
      ]
    },
    {
      "cell_type": "code",
      "metadata": {
        "id": "ZBjU1JDQzyq9",
        "colab_type": "code",
        "outputId": "43492f13-1896-4241-cda7-7fc0b405f76d",
        "colab": {
          "base_uri": "https://localhost:8080/",
          "height": 127
        }
      },
      "source": [
        "from google.colab import drive\n",
        "drive.mount('/content/drive')"
      ],
      "execution_count": 0,
      "outputs": [
        {
          "output_type": "stream",
          "text": [
            "Go to this URL in a browser: https://accounts.google.com/o/oauth2/auth?client_id=947318989803-6bn6qk8qdgf4n4g3pfee6491hc0brc4i.apps.googleusercontent.com&redirect_uri=urn%3aietf%3awg%3aoauth%3a2.0%3aoob&response_type=code&scope=email%20https%3a%2f%2fwww.googleapis.com%2fauth%2fdocs.test%20https%3a%2f%2fwww.googleapis.com%2fauth%2fdrive%20https%3a%2f%2fwww.googleapis.com%2fauth%2fdrive.photos.readonly%20https%3a%2f%2fwww.googleapis.com%2fauth%2fpeopleapi.readonly\n",
            "\n",
            "Enter your authorization code:\n",
            "··········\n",
            "Mounted at /content/drive\n"
          ],
          "name": "stdout"
        }
      ]
    },
    {
      "cell_type": "code",
      "metadata": {
        "id": "gl2J7SOH3SAu",
        "colab_type": "code",
        "colab": {}
      },
      "source": [
        "import pandas as pd"
      ],
      "execution_count": 0,
      "outputs": []
    },
    {
      "cell_type": "code",
      "metadata": {
        "id": "PV6n8D2QZap0",
        "colab_type": "code",
        "colab": {}
      },
      "source": [
        "import seaborn as sns"
      ],
      "execution_count": 0,
      "outputs": []
    },
    {
      "cell_type": "code",
      "metadata": {
        "id": "X6bae53r3SA1",
        "colab_type": "code",
        "colab": {}
      },
      "source": [
        "import matplotlib.pyplot as plt "
      ],
      "execution_count": 0,
      "outputs": []
    },
    {
      "cell_type": "code",
      "metadata": {
        "id": "7qKLDryu3SA4",
        "colab_type": "code",
        "outputId": "ce6d12af-44b2-4565-c5aa-29de40b48853",
        "colab": {
          "base_uri": "https://localhost:8080/",
          "height": 91
        }
      },
      "source": [
        "df = pd.read_csv('/content/drive/My Drive/ca_san_francisco_2019_12_17.csv')\n",
        "df.shape"
      ],
      "execution_count": 0,
      "outputs": [
        {
          "output_type": "stream",
          "text": [
            "/usr/local/lib/python3.6/dist-packages/IPython/core/interactiveshell.py:2718: DtypeWarning: Columns (6) have mixed types. Specify dtype option on import or set low_memory=False.\n",
            "  interactivity=interactivity, compiler=compiler, result=result)\n"
          ],
          "name": "stderr"
        },
        {
          "output_type": "execute_result",
          "data": {
            "text/plain": [
              "(905070, 22)"
            ]
          },
          "metadata": {
            "tags": []
          },
          "execution_count": 5
        }
      ]
    },
    {
      "cell_type": "code",
      "metadata": {
        "id": "Dwo7G5wQgfvD",
        "colab_type": "code",
        "outputId": "453e4481-51a8-4760-d09b-d06e8d4fffb6",
        "colab": {
          "base_uri": "https://localhost:8080/",
          "height": 394
        }
      },
      "source": [
        "df.head()"
      ],
      "execution_count": 0,
      "outputs": [
        {
          "output_type": "execute_result",
          "data": {
            "text/html": [
              "<div>\n",
              "<style scoped>\n",
              "    .dataframe tbody tr th:only-of-type {\n",
              "        vertical-align: middle;\n",
              "    }\n",
              "\n",
              "    .dataframe tbody tr th {\n",
              "        vertical-align: top;\n",
              "    }\n",
              "\n",
              "    .dataframe thead th {\n",
              "        text-align: right;\n",
              "    }\n",
              "</style>\n",
              "<table border=\"1\" class=\"dataframe\">\n",
              "  <thead>\n",
              "    <tr style=\"text-align: right;\">\n",
              "      <th></th>\n",
              "      <th>raw_row_number</th>\n",
              "      <th>date</th>\n",
              "      <th>time</th>\n",
              "      <th>location</th>\n",
              "      <th>lat</th>\n",
              "      <th>lng</th>\n",
              "      <th>district</th>\n",
              "      <th>subject_age</th>\n",
              "      <th>subject_race</th>\n",
              "      <th>subject_sex</th>\n",
              "      <th>type</th>\n",
              "      <th>arrest_made</th>\n",
              "      <th>citation_issued</th>\n",
              "      <th>warning_issued</th>\n",
              "      <th>outcome</th>\n",
              "      <th>contraband_found</th>\n",
              "      <th>search_conducted</th>\n",
              "      <th>search_vehicle</th>\n",
              "      <th>search_basis</th>\n",
              "      <th>reason_for_stop</th>\n",
              "      <th>raw_search_vehicle_description</th>\n",
              "      <th>raw_result_of_contact_description</th>\n",
              "    </tr>\n",
              "  </thead>\n",
              "  <tbody>\n",
              "    <tr>\n",
              "      <th>0</th>\n",
              "      <td>869921</td>\n",
              "      <td>2014-08-01</td>\n",
              "      <td>00:01:00</td>\n",
              "      <td>MASONIC AV &amp; FELL ST</td>\n",
              "      <td>37.773004</td>\n",
              "      <td>-122.445873</td>\n",
              "      <td>NaN</td>\n",
              "      <td>NaN</td>\n",
              "      <td>asian/pacific islander</td>\n",
              "      <td>female</td>\n",
              "      <td>vehicular</td>\n",
              "      <td>False</td>\n",
              "      <td>False</td>\n",
              "      <td>True</td>\n",
              "      <td>warning</td>\n",
              "      <td>NaN</td>\n",
              "      <td>False</td>\n",
              "      <td>False</td>\n",
              "      <td>NaN</td>\n",
              "      <td>Mechanical or Non-Moving Violation (V.C.)</td>\n",
              "      <td>No Search</td>\n",
              "      <td>Warning</td>\n",
              "    </tr>\n",
              "    <tr>\n",
              "      <th>1</th>\n",
              "      <td>869922</td>\n",
              "      <td>2014-08-01</td>\n",
              "      <td>00:01:00</td>\n",
              "      <td>GEARY&amp;10TH AV</td>\n",
              "      <td>37.780898</td>\n",
              "      <td>-122.468586</td>\n",
              "      <td>NaN</td>\n",
              "      <td>NaN</td>\n",
              "      <td>black</td>\n",
              "      <td>male</td>\n",
              "      <td>vehicular</td>\n",
              "      <td>False</td>\n",
              "      <td>True</td>\n",
              "      <td>False</td>\n",
              "      <td>citation</td>\n",
              "      <td>NaN</td>\n",
              "      <td>False</td>\n",
              "      <td>False</td>\n",
              "      <td>NaN</td>\n",
              "      <td>Mechanical or Non-Moving Violation (V.C.)</td>\n",
              "      <td>No Search</td>\n",
              "      <td>Citation</td>\n",
              "    </tr>\n",
              "    <tr>\n",
              "      <th>2</th>\n",
              "      <td>869923</td>\n",
              "      <td>2014-08-01</td>\n",
              "      <td>00:15:00</td>\n",
              "      <td>SUTTER N OCTAVIA ST</td>\n",
              "      <td>37.786919</td>\n",
              "      <td>-122.426718</td>\n",
              "      <td>NaN</td>\n",
              "      <td>NaN</td>\n",
              "      <td>hispanic</td>\n",
              "      <td>male</td>\n",
              "      <td>vehicular</td>\n",
              "      <td>False</td>\n",
              "      <td>True</td>\n",
              "      <td>False</td>\n",
              "      <td>citation</td>\n",
              "      <td>NaN</td>\n",
              "      <td>False</td>\n",
              "      <td>False</td>\n",
              "      <td>NaN</td>\n",
              "      <td>Mechanical or Non-Moving Violation (V.C.)</td>\n",
              "      <td>No Search</td>\n",
              "      <td>Citation</td>\n",
              "    </tr>\n",
              "    <tr>\n",
              "      <th>3</th>\n",
              "      <td>869924</td>\n",
              "      <td>2014-08-01</td>\n",
              "      <td>00:18:00</td>\n",
              "      <td>3RD ST &amp; DAVIDSON</td>\n",
              "      <td>37.746380</td>\n",
              "      <td>-122.392005</td>\n",
              "      <td>NaN</td>\n",
              "      <td>NaN</td>\n",
              "      <td>hispanic</td>\n",
              "      <td>male</td>\n",
              "      <td>vehicular</td>\n",
              "      <td>False</td>\n",
              "      <td>False</td>\n",
              "      <td>True</td>\n",
              "      <td>warning</td>\n",
              "      <td>NaN</td>\n",
              "      <td>False</td>\n",
              "      <td>False</td>\n",
              "      <td>NaN</td>\n",
              "      <td>Mechanical or Non-Moving Violation (V.C.)</td>\n",
              "      <td>No Search</td>\n",
              "      <td>Warning</td>\n",
              "    </tr>\n",
              "    <tr>\n",
              "      <th>4</th>\n",
              "      <td>869925</td>\n",
              "      <td>2014-08-01</td>\n",
              "      <td>00:19:00</td>\n",
              "      <td>DIVISADERO ST. &amp; BUSH ST.</td>\n",
              "      <td>37.786348</td>\n",
              "      <td>-122.440003</td>\n",
              "      <td>NaN</td>\n",
              "      <td>NaN</td>\n",
              "      <td>white</td>\n",
              "      <td>male</td>\n",
              "      <td>vehicular</td>\n",
              "      <td>False</td>\n",
              "      <td>True</td>\n",
              "      <td>False</td>\n",
              "      <td>citation</td>\n",
              "      <td>NaN</td>\n",
              "      <td>False</td>\n",
              "      <td>False</td>\n",
              "      <td>NaN</td>\n",
              "      <td>Mechanical or Non-Moving Violation (V.C.)</td>\n",
              "      <td>No Search</td>\n",
              "      <td>Citation</td>\n",
              "    </tr>\n",
              "  </tbody>\n",
              "</table>\n",
              "</div>"
            ],
            "text/plain": [
              "  raw_row_number  ... raw_result_of_contact_description\n",
              "0         869921  ...                           Warning\n",
              "1         869922  ...                          Citation\n",
              "2         869923  ...                          Citation\n",
              "3         869924  ...                           Warning\n",
              "4         869925  ...                          Citation\n",
              "\n",
              "[5 rows x 22 columns]"
            ]
          },
          "metadata": {
            "tags": []
          },
          "execution_count": 6
        }
      ]
    },
    {
      "cell_type": "code",
      "metadata": {
        "id": "CmjICJNP4746",
        "colab_type": "code",
        "outputId": "162bdd83-7502-4e2a-ae5a-8608e310d5a5",
        "colab": {
          "base_uri": "https://localhost:8080/",
          "height": 125
        }
      },
      "source": [
        "df.columns"
      ],
      "execution_count": 0,
      "outputs": [
        {
          "output_type": "execute_result",
          "data": {
            "text/plain": [
              "Index(['raw_row_number', 'date', 'time', 'location', 'lat', 'lng', 'district',\n",
              "       'subject_age', 'subject_race', 'subject_sex', 'type', 'arrest_made',\n",
              "       'citation_issued', 'warning_issued', 'outcome', 'contraband_found',\n",
              "       'search_conducted', 'search_vehicle', 'search_basis', 'reason_for_stop',\n",
              "       'raw_search_vehicle_description', 'raw_result_of_contact_description'],\n",
              "      dtype='object')"
            ]
          },
          "metadata": {
            "tags": []
          },
          "execution_count": 7
        }
      ]
    },
    {
      "cell_type": "code",
      "metadata": {
        "id": "ipJTijur3SA8",
        "colab_type": "code",
        "colab": {}
      },
      "source": [
        "\n",
        "# Choose cloumns\n",
        "df = df.loc[:, ['raw_row_number','date', 'time', 'location', 'district',\n",
        "                'subject_age', 'subject_race', 'subject_sex', 'arrest_made',\n",
        "                'citation_issued', 'outcome',\n",
        "                'search_conducted', 'search_vehicle', 'reason_for_stop']]"
      ],
      "execution_count": 0,
      "outputs": []
    },
    {
      "cell_type": "code",
      "metadata": {
        "id": "-_OTaYaKZQ2F",
        "colab_type": "code",
        "colab": {}
      },
      "source": [
        ""
      ],
      "execution_count": 0,
      "outputs": []
    },
    {
      "cell_type": "code",
      "metadata": {
        "id": "R7ALPS985X3b",
        "colab_type": "code",
        "outputId": "67fe37e6-04b9-46c3-b8fb-02f63fec471e",
        "colab": {
          "base_uri": "https://localhost:8080/",
          "height": 394
        }
      },
      "source": [
        "df.head()"
      ],
      "execution_count": 0,
      "outputs": [
        {
          "output_type": "execute_result",
          "data": {
            "text/html": [
              "<div>\n",
              "<style scoped>\n",
              "    .dataframe tbody tr th:only-of-type {\n",
              "        vertical-align: middle;\n",
              "    }\n",
              "\n",
              "    .dataframe tbody tr th {\n",
              "        vertical-align: top;\n",
              "    }\n",
              "\n",
              "    .dataframe thead th {\n",
              "        text-align: right;\n",
              "    }\n",
              "</style>\n",
              "<table border=\"1\" class=\"dataframe\">\n",
              "  <thead>\n",
              "    <tr style=\"text-align: right;\">\n",
              "      <th></th>\n",
              "      <th>raw_row_number</th>\n",
              "      <th>date</th>\n",
              "      <th>time</th>\n",
              "      <th>location</th>\n",
              "      <th>district</th>\n",
              "      <th>subject_age</th>\n",
              "      <th>subject_race</th>\n",
              "      <th>subject_sex</th>\n",
              "      <th>arrest_made</th>\n",
              "      <th>citation_issued</th>\n",
              "      <th>outcome</th>\n",
              "      <th>search_conducted</th>\n",
              "      <th>search_vehicle</th>\n",
              "      <th>reason_for_stop</th>\n",
              "    </tr>\n",
              "  </thead>\n",
              "  <tbody>\n",
              "    <tr>\n",
              "      <th>0</th>\n",
              "      <td>869921</td>\n",
              "      <td>2014-08-01</td>\n",
              "      <td>00:01:00</td>\n",
              "      <td>MASONIC AV &amp; FELL ST</td>\n",
              "      <td>NaN</td>\n",
              "      <td>NaN</td>\n",
              "      <td>asian/pacific islander</td>\n",
              "      <td>female</td>\n",
              "      <td>False</td>\n",
              "      <td>False</td>\n",
              "      <td>warning</td>\n",
              "      <td>False</td>\n",
              "      <td>False</td>\n",
              "      <td>Mechanical or Non-Moving Violation (V.C.)</td>\n",
              "    </tr>\n",
              "    <tr>\n",
              "      <th>1</th>\n",
              "      <td>869922</td>\n",
              "      <td>2014-08-01</td>\n",
              "      <td>00:01:00</td>\n",
              "      <td>GEARY&amp;10TH AV</td>\n",
              "      <td>NaN</td>\n",
              "      <td>NaN</td>\n",
              "      <td>black</td>\n",
              "      <td>male</td>\n",
              "      <td>False</td>\n",
              "      <td>True</td>\n",
              "      <td>citation</td>\n",
              "      <td>False</td>\n",
              "      <td>False</td>\n",
              "      <td>Mechanical or Non-Moving Violation (V.C.)</td>\n",
              "    </tr>\n",
              "    <tr>\n",
              "      <th>2</th>\n",
              "      <td>869923</td>\n",
              "      <td>2014-08-01</td>\n",
              "      <td>00:15:00</td>\n",
              "      <td>SUTTER N OCTAVIA ST</td>\n",
              "      <td>NaN</td>\n",
              "      <td>NaN</td>\n",
              "      <td>hispanic</td>\n",
              "      <td>male</td>\n",
              "      <td>False</td>\n",
              "      <td>True</td>\n",
              "      <td>citation</td>\n",
              "      <td>False</td>\n",
              "      <td>False</td>\n",
              "      <td>Mechanical or Non-Moving Violation (V.C.)</td>\n",
              "    </tr>\n",
              "    <tr>\n",
              "      <th>3</th>\n",
              "      <td>869924</td>\n",
              "      <td>2014-08-01</td>\n",
              "      <td>00:18:00</td>\n",
              "      <td>3RD ST &amp; DAVIDSON</td>\n",
              "      <td>NaN</td>\n",
              "      <td>NaN</td>\n",
              "      <td>hispanic</td>\n",
              "      <td>male</td>\n",
              "      <td>False</td>\n",
              "      <td>False</td>\n",
              "      <td>warning</td>\n",
              "      <td>False</td>\n",
              "      <td>False</td>\n",
              "      <td>Mechanical or Non-Moving Violation (V.C.)</td>\n",
              "    </tr>\n",
              "    <tr>\n",
              "      <th>4</th>\n",
              "      <td>869925</td>\n",
              "      <td>2014-08-01</td>\n",
              "      <td>00:19:00</td>\n",
              "      <td>DIVISADERO ST. &amp; BUSH ST.</td>\n",
              "      <td>NaN</td>\n",
              "      <td>NaN</td>\n",
              "      <td>white</td>\n",
              "      <td>male</td>\n",
              "      <td>False</td>\n",
              "      <td>True</td>\n",
              "      <td>citation</td>\n",
              "      <td>False</td>\n",
              "      <td>False</td>\n",
              "      <td>Mechanical or Non-Moving Violation (V.C.)</td>\n",
              "    </tr>\n",
              "  </tbody>\n",
              "</table>\n",
              "</div>"
            ],
            "text/plain": [
              "  raw_row_number  ...                            reason_for_stop\n",
              "0         869921  ...  Mechanical or Non-Moving Violation (V.C.)\n",
              "1         869922  ...  Mechanical or Non-Moving Violation (V.C.)\n",
              "2         869923  ...  Mechanical or Non-Moving Violation (V.C.)\n",
              "3         869924  ...  Mechanical or Non-Moving Violation (V.C.)\n",
              "4         869925  ...  Mechanical or Non-Moving Violation (V.C.)\n",
              "\n",
              "[5 rows x 14 columns]"
            ]
          },
          "metadata": {
            "tags": []
          },
          "execution_count": 9
        }
      ]
    },
    {
      "cell_type": "code",
      "metadata": {
        "id": "V5obEl-j5P4d",
        "colab_type": "code",
        "colab": {}
      },
      "source": [
        "# Count Null Rows and Drop (subset) null rows\n",
        "# print(df.isnull().sum())\n",
        "df.dropna(subset=['time', 'date', 'location','district'], inplace=True)\n",
        "# print(df.isnull().sum())\n",
        "#convert type of some columns"
      ],
      "execution_count": 0,
      "outputs": []
    },
    {
      "cell_type": "code",
      "metadata": {
        "id": "CR6pTC7_5cZG",
        "colab_type": "code",
        "outputId": "ffeb2a5e-2462-4741-945b-3f1159f46147",
        "colab": {
          "base_uri": "https://localhost:8080/",
          "height": 35
        }
      },
      "source": [
        "df.shape"
      ],
      "execution_count": 0,
      "outputs": [
        {
          "output_type": "execute_result",
          "data": {
            "text/plain": [
              "(852805, 14)"
            ]
          },
          "metadata": {
            "tags": []
          },
          "execution_count": 11
        }
      ]
    },
    {
      "cell_type": "code",
      "metadata": {
        "id": "1pamaqen5Qx2",
        "colab_type": "code",
        "colab": {}
      },
      "source": [
        "df = df.astype({'arrest_made':'bool',\n",
        "                'citation_issued':'bool',\n",
        "                'search_conducted':'bool',\n",
        "                'search_vehicle':'bool'})"
      ],
      "execution_count": 0,
      "outputs": []
    },
    {
      "cell_type": "code",
      "metadata": {
        "id": "kP6UpYW13SA_",
        "colab_type": "code",
        "colab": {}
      },
      "source": [
        "# Fill Na with average\n",
        "#df.fillna(df.mean(), inplace=True)"
      ],
      "execution_count": 0,
      "outputs": []
    },
    {
      "cell_type": "code",
      "metadata": {
        "id": "rNLZ0bQe7zWb",
        "colab_type": "code",
        "outputId": "859861bc-7adf-4309-f057-c9649730fb9d",
        "colab": {
          "base_uri": "https://localhost:8080/",
          "height": 35
        }
      },
      "source": [
        "df.shape"
      ],
      "execution_count": 0,
      "outputs": [
        {
          "output_type": "execute_result",
          "data": {
            "text/plain": [
              "(852805, 14)"
            ]
          },
          "metadata": {
            "tags": []
          },
          "execution_count": 14
        }
      ]
    },
    {
      "cell_type": "code",
      "metadata": {
        "id": "OqwRgMEW3SBF",
        "colab_type": "code",
        "outputId": "4ded4d40-0ff8-4f5e-a84f-898b0ac4f7a7",
        "colab": {
          "base_uri": "https://localhost:8080/",
          "height": 35
        }
      },
      "source": [
        "# Merge and Convert [date] & time as new column [Date_time]\n",
        "df['date_time'] = df.date + \" \" + df.time\n",
        "df['date_time'] = pd.to_datetime(df.date_time)\n",
        "print(df.date_time.isnull().sum())\n",
        "\n",
        "\n"
      ],
      "execution_count": 0,
      "outputs": [
        {
          "output_type": "stream",
          "text": [
            "0\n"
          ],
          "name": "stdout"
        }
      ]
    },
    {
      "cell_type": "code",
      "metadata": {
        "id": "EKBff1Pb3SBI",
        "colab_type": "code",
        "colab": {}
      },
      "source": [
        "# Set index date_time\n",
        "df.sort_values(by='date_time', inplace=True)\n",
        "df.set_index('raw_row_number', inplace=True)\n",
        "\n",
        "\n"
      ],
      "execution_count": 0,
      "outputs": []
    },
    {
      "cell_type": "code",
      "metadata": {
        "id": "rMksTrJf3SBL",
        "colab_type": "code",
        "outputId": "f7e4d4d2-c91e-4c10-d96b-3b5589e4be29",
        "colab": {
          "base_uri": "https://localhost:8080/",
          "height": 424
        }
      },
      "source": [
        "df.head()"
      ],
      "execution_count": 0,
      "outputs": [
        {
          "output_type": "execute_result",
          "data": {
            "text/html": [
              "<div>\n",
              "<style scoped>\n",
              "    .dataframe tbody tr th:only-of-type {\n",
              "        vertical-align: middle;\n",
              "    }\n",
              "\n",
              "    .dataframe tbody tr th {\n",
              "        vertical-align: top;\n",
              "    }\n",
              "\n",
              "    .dataframe thead th {\n",
              "        text-align: right;\n",
              "    }\n",
              "</style>\n",
              "<table border=\"1\" class=\"dataframe\">\n",
              "  <thead>\n",
              "    <tr style=\"text-align: right;\">\n",
              "      <th></th>\n",
              "      <th>date</th>\n",
              "      <th>time</th>\n",
              "      <th>location</th>\n",
              "      <th>district</th>\n",
              "      <th>subject_age</th>\n",
              "      <th>subject_race</th>\n",
              "      <th>subject_sex</th>\n",
              "      <th>arrest_made</th>\n",
              "      <th>citation_issued</th>\n",
              "      <th>outcome</th>\n",
              "      <th>search_conducted</th>\n",
              "      <th>search_vehicle</th>\n",
              "      <th>reason_for_stop</th>\n",
              "      <th>date_time</th>\n",
              "    </tr>\n",
              "    <tr>\n",
              "      <th>raw_row_number</th>\n",
              "      <th></th>\n",
              "      <th></th>\n",
              "      <th></th>\n",
              "      <th></th>\n",
              "      <th></th>\n",
              "      <th></th>\n",
              "      <th></th>\n",
              "      <th></th>\n",
              "      <th></th>\n",
              "      <th></th>\n",
              "      <th></th>\n",
              "      <th></th>\n",
              "      <th></th>\n",
              "      <th></th>\n",
              "    </tr>\n",
              "  </thead>\n",
              "  <tbody>\n",
              "    <tr>\n",
              "      <th>1</th>\n",
              "      <td>2007-01-01</td>\n",
              "      <td>00:11:00</td>\n",
              "      <td>POLK AT OFARRELL</td>\n",
              "      <td>E</td>\n",
              "      <td>20.0</td>\n",
              "      <td>asian/pacific islander</td>\n",
              "      <td>male</td>\n",
              "      <td>False</td>\n",
              "      <td>False</td>\n",
              "      <td>warning</td>\n",
              "      <td>False</td>\n",
              "      <td>False</td>\n",
              "      <td>Moving Violation</td>\n",
              "      <td>2007-01-01 00:11:00</td>\n",
              "    </tr>\n",
              "    <tr>\n",
              "      <th>2</th>\n",
              "      <td>2007-01-01</td>\n",
              "      <td>00:23:00</td>\n",
              "      <td>ELLIS AND TAYLOR</td>\n",
              "      <td>J</td>\n",
              "      <td>32.0</td>\n",
              "      <td>other</td>\n",
              "      <td>male</td>\n",
              "      <td>False</td>\n",
              "      <td>False</td>\n",
              "      <td>warning</td>\n",
              "      <td>False</td>\n",
              "      <td>False</td>\n",
              "      <td>MPC Violation</td>\n",
              "      <td>2007-01-01 00:23:00</td>\n",
              "    </tr>\n",
              "    <tr>\n",
              "      <th>3</th>\n",
              "      <td>2007-01-01</td>\n",
              "      <td>00:28:00</td>\n",
              "      <td>101/ARMY</td>\n",
              "      <td>D</td>\n",
              "      <td>27.0</td>\n",
              "      <td>hispanic</td>\n",
              "      <td>male</td>\n",
              "      <td>False</td>\n",
              "      <td>True</td>\n",
              "      <td>citation</td>\n",
              "      <td>False</td>\n",
              "      <td>False</td>\n",
              "      <td>Moving Violation</td>\n",
              "      <td>2007-01-01 00:28:00</td>\n",
              "    </tr>\n",
              "    <tr>\n",
              "      <th>4</th>\n",
              "      <td>2007-01-01</td>\n",
              "      <td>00:30:00</td>\n",
              "      <td>CHARLES J BRENNAN ANDMARKET</td>\n",
              "      <td>J</td>\n",
              "      <td>23.0</td>\n",
              "      <td>black</td>\n",
              "      <td>male</td>\n",
              "      <td>False</td>\n",
              "      <td>True</td>\n",
              "      <td>citation</td>\n",
              "      <td>True</td>\n",
              "      <td>True</td>\n",
              "      <td>Moving Violation</td>\n",
              "      <td>2007-01-01 00:30:00</td>\n",
              "    </tr>\n",
              "    <tr>\n",
              "      <th>5</th>\n",
              "      <td>2007-01-01</td>\n",
              "      <td>00:30:00</td>\n",
              "      <td>EMBARCADERO/BROADWAY</td>\n",
              "      <td>E</td>\n",
              "      <td>24.0</td>\n",
              "      <td>hispanic</td>\n",
              "      <td>female</td>\n",
              "      <td>False</td>\n",
              "      <td>True</td>\n",
              "      <td>citation</td>\n",
              "      <td>False</td>\n",
              "      <td>False</td>\n",
              "      <td>Moving Violation</td>\n",
              "      <td>2007-01-01 00:30:00</td>\n",
              "    </tr>\n",
              "  </tbody>\n",
              "</table>\n",
              "</div>"
            ],
            "text/plain": [
              "                      date      time  ...   reason_for_stop           date_time\n",
              "raw_row_number                        ...                                      \n",
              "1               2007-01-01  00:11:00  ...  Moving Violation 2007-01-01 00:11:00\n",
              "2               2007-01-01  00:23:00  ...     MPC Violation 2007-01-01 00:23:00\n",
              "3               2007-01-01  00:28:00  ...  Moving Violation 2007-01-01 00:28:00\n",
              "4               2007-01-01  00:30:00  ...  Moving Violation 2007-01-01 00:30:00\n",
              "5               2007-01-01  00:30:00  ...  Moving Violation 2007-01-01 00:30:00\n",
              "\n",
              "[5 rows x 14 columns]"
            ]
          },
          "metadata": {
            "tags": []
          },
          "execution_count": 17
        }
      ]
    },
    {
      "cell_type": "markdown",
      "metadata": {
        "id": "OIZ6NXqS-kTs",
        "colab_type": "text"
      },
      "source": [
        "# **Do The Genders Commits Different Violations**"
      ]
    },
    {
      "cell_type": "code",
      "metadata": {
        "id": "FfPhe6z6be3X",
        "colab_type": "code",
        "outputId": "09c7b449-c033-4782-9ec9-f28bd2139b68",
        "colab": {
          "base_uri": "https://localhost:8080/",
          "height": 110
        }
      },
      "source": [
        "gender_outcome=pd.crosstab(index=df.outcome,columns=df.subject_sex )\n",
        "\n",
        "df['outcome_arrest'] = df.outcome[df.outcome=='arrest'] \n",
        "gender_outcome_rate= pd.crosstab(index=df.outcome_arrest, columns=df.subject_sex, normalize=True)\n",
        "gender_outcome_rate"
      ],
      "execution_count": 0,
      "outputs": [
        {
          "output_type": "execute_result",
          "data": {
            "text/html": [
              "<div>\n",
              "<style scoped>\n",
              "    .dataframe tbody tr th:only-of-type {\n",
              "        vertical-align: middle;\n",
              "    }\n",
              "\n",
              "    .dataframe tbody tr th {\n",
              "        vertical-align: top;\n",
              "    }\n",
              "\n",
              "    .dataframe thead th {\n",
              "        text-align: right;\n",
              "    }\n",
              "</style>\n",
              "<table border=\"1\" class=\"dataframe\">\n",
              "  <thead>\n",
              "    <tr style=\"text-align: right;\">\n",
              "      <th>subject_sex</th>\n",
              "      <th>female</th>\n",
              "      <th>male</th>\n",
              "    </tr>\n",
              "    <tr>\n",
              "      <th>outcome_arrest</th>\n",
              "      <th></th>\n",
              "      <th></th>\n",
              "    </tr>\n",
              "  </thead>\n",
              "  <tbody>\n",
              "    <tr>\n",
              "      <th>arrest</th>\n",
              "      <td>0.211783</td>\n",
              "      <td>0.788217</td>\n",
              "    </tr>\n",
              "  </tbody>\n",
              "</table>\n",
              "</div>"
            ],
            "text/plain": [
              "subject_sex       female      male\n",
              "outcome_arrest                    \n",
              "arrest          0.211783  0.788217"
            ]
          },
          "metadata": {
            "tags": []
          },
          "execution_count": 18
        }
      ]
    },
    {
      "cell_type": "code",
      "metadata": {
        "id": "mB0Q62YTOpZR",
        "colab_type": "code",
        "outputId": "3b17eeae-7cb2-4d6a-bfd7-99acb065ec1d",
        "colab": {
          "base_uri": "https://localhost:8080/",
          "height": 171
        }
      },
      "source": [
        "gender_outcome"
      ],
      "execution_count": 0,
      "outputs": [
        {
          "output_type": "execute_result",
          "data": {
            "text/html": [
              "<div>\n",
              "<style scoped>\n",
              "    .dataframe tbody tr th:only-of-type {\n",
              "        vertical-align: middle;\n",
              "    }\n",
              "\n",
              "    .dataframe tbody tr th {\n",
              "        vertical-align: top;\n",
              "    }\n",
              "\n",
              "    .dataframe thead th {\n",
              "        text-align: right;\n",
              "    }\n",
              "</style>\n",
              "<table border=\"1\" class=\"dataframe\">\n",
              "  <thead>\n",
              "    <tr style=\"text-align: right;\">\n",
              "      <th>subject_sex</th>\n",
              "      <th>female</th>\n",
              "      <th>male</th>\n",
              "    </tr>\n",
              "    <tr>\n",
              "      <th>outcome</th>\n",
              "      <th></th>\n",
              "      <th></th>\n",
              "    </tr>\n",
              "  </thead>\n",
              "  <tbody>\n",
              "    <tr>\n",
              "      <th>arrest</th>\n",
              "      <td>2430</td>\n",
              "      <td>9044</td>\n",
              "    </tr>\n",
              "    <tr>\n",
              "      <th>citation</th>\n",
              "      <td>177236</td>\n",
              "      <td>417571</td>\n",
              "    </tr>\n",
              "    <tr>\n",
              "      <th>warning</th>\n",
              "      <td>68222</td>\n",
              "      <td>163240</td>\n",
              "    </tr>\n",
              "  </tbody>\n",
              "</table>\n",
              "</div>"
            ],
            "text/plain": [
              "subject_sex  female    male\n",
              "outcome                    \n",
              "arrest         2430    9044\n",
              "citation     177236  417571\n",
              "warning       68222  163240"
            ]
          },
          "metadata": {
            "tags": []
          },
          "execution_count": 19
        }
      ]
    },
    {
      "cell_type": "code",
      "metadata": {
        "id": "xObzVmcbf8Bj",
        "colab_type": "code",
        "outputId": "d36d9f7f-773c-46f2-ef54-10937f897b3e",
        "colab": {
          "base_uri": "https://localhost:8080/",
          "height": 89
        }
      },
      "source": [
        "male_outcome_rates = df[df.subject_sex=='male']['outcome'].value_counts(normalize=True)\n",
        "male_outcome_rates"
      ],
      "execution_count": 0,
      "outputs": [
        {
          "output_type": "execute_result",
          "data": {
            "text/plain": [
              "citation    0.707921\n",
              "warning     0.276746\n",
              "arrest      0.015333\n",
              "Name: outcome, dtype: float64"
            ]
          },
          "metadata": {
            "tags": []
          },
          "execution_count": 20
        }
      ]
    },
    {
      "cell_type": "code",
      "metadata": {
        "id": "a3EG07SEkUOS",
        "colab_type": "code",
        "outputId": "51003e16-03a4-4164-962e-d110549eba43",
        "colab": {
          "base_uri": "https://localhost:8080/",
          "height": 89
        }
      },
      "source": [
        "female_outcome_rates = df[df['subject_sex']=='female']['outcome'].value_counts(normalize =True)\n",
        "female_outcome_rates"
      ],
      "execution_count": 0,
      "outputs": [
        {
          "output_type": "execute_result",
          "data": {
            "text/plain": [
              "citation    0.714984\n",
              "warning     0.275213\n",
              "arrest      0.009803\n",
              "Name: outcome, dtype: float64"
            ]
          },
          "metadata": {
            "tags": []
          },
          "execution_count": 21
        }
      ]
    },
    {
      "cell_type": "code",
      "metadata": {
        "id": "LhqRi8GpdJ3d",
        "colab_type": "code",
        "outputId": "62f949b5-6430-420b-9b07-bf2481ea5ec0",
        "colab": {
          "base_uri": "https://localhost:8080/",
          "height": 729
        }
      },
      "source": [
        "fig, ((ax1,ax2),(ax3,ax4)) = plt.subplots(2, 2,figsize=[10,10])\n",
        "color =['orange','cyan','green', 'blue', 'red', 'purple']\n",
        "edgecolor = ['grey']\n",
        "\n",
        "title2 = 'Arrest Rate by Gender'\n",
        "ax1 = gender_outcome.loc['arrest'].plot(kind='bar', color=color, edgecolor=edgecolor,ax=ax1)\n",
        "ax1.set_title('Number of Arrest')\n",
        "\n",
        "ax2 = gender_outcome_rate.plot(kind='bar', color=color, edgecolor=edgecolor, title=title2,ax=ax2 )\n",
        "\n",
        "ax3.set_title('Outcome Rate by Male')\n",
        "ax3= male_outcome_rates.plot(kind='bar',color=color, edgecolor=edgecolor,ax=ax3)\n",
        "\n",
        "ax4 = female_outcome_rates.plot(kind='bar',color=color, edgecolor=edgecolor,ax=ax4)\n",
        "ax4.set_title('Outcome Rate by Female')\n",
        "\n",
        "plt.tight_layout(h_pad=0)\n",
        "plt.savefig(fname='gender_outcome')\n",
        "plt.show()"
      ],
      "execution_count": 0,
      "outputs": [
        {
          "output_type": "display_data",
          "data": {
            "image/png": "[encoded data removed]",
            "text/plain": [
              "<Figure size 720x720 with 4 Axes>"
            ]
          },
          "metadata": {
            "tags": []
          }
        }
      ]
    },
    {
      "cell_type": "markdown",
      "metadata": {
        "id": "b4DymBGMcdgd",
        "colab_type": "text"
      },
      "source": [
        "# Comparing stop outcomes according to Race"
      ]
    },
    {
      "cell_type": "code",
      "metadata": {
        "id": "3ZpXspJ1bC9K",
        "colab_type": "code",
        "colab": {}
      },
      "source": [
        "outcomes_by_race = pd.crosstab(df.outcome,df.subject_race)\n",
        "outcomes_by_race.sort_values(by=['asian/pacific islander','black','hispanic','other','white'], inplace=True)\n",
        "outcomes_by_race\n",
        "outcomes_rate_race = pd.crosstab(index=df.outcome, columns=df.subject_race, normalize=True)"
      ],
      "execution_count": 0,
      "outputs": []
    },
    {
      "cell_type": "code",
      "metadata": {
        "id": "dXdNpJYx3x4T",
        "colab_type": "code",
        "outputId": "145f9dd7-d560-43fb-b34c-dee11a6a0667",
        "colab": {
          "base_uri": "https://localhost:8080/",
          "height": 171
        }
      },
      "source": [
        "outcomes_by_race"
      ],
      "execution_count": 0,
      "outputs": [
        {
          "output_type": "execute_result",
          "data": {
            "text/html": [
              "<div>\n",
              "<style scoped>\n",
              "    .dataframe tbody tr th:only-of-type {\n",
              "        vertical-align: middle;\n",
              "    }\n",
              "\n",
              "    .dataframe tbody tr th {\n",
              "        vertical-align: top;\n",
              "    }\n",
              "\n",
              "    .dataframe thead th {\n",
              "        text-align: right;\n",
              "    }\n",
              "</style>\n",
              "<table border=\"1\" class=\"dataframe\">\n",
              "  <thead>\n",
              "    <tr style=\"text-align: right;\">\n",
              "      <th>subject_race</th>\n",
              "      <th>asian/pacific islander</th>\n",
              "      <th>black</th>\n",
              "      <th>hispanic</th>\n",
              "      <th>other</th>\n",
              "      <th>white</th>\n",
              "    </tr>\n",
              "    <tr>\n",
              "      <th>outcome</th>\n",
              "      <th></th>\n",
              "      <th></th>\n",
              "      <th></th>\n",
              "      <th></th>\n",
              "      <th></th>\n",
              "    </tr>\n",
              "  </thead>\n",
              "  <tbody>\n",
              "    <tr>\n",
              "      <th>arrest</th>\n",
              "      <td>1182</td>\n",
              "      <td>3362</td>\n",
              "      <td>2198</td>\n",
              "      <td>880</td>\n",
              "      <td>3852</td>\n",
              "    </tr>\n",
              "    <tr>\n",
              "      <th>warning</th>\n",
              "      <td>29983</td>\n",
              "      <td>57376</td>\n",
              "      <td>29288</td>\n",
              "      <td>21417</td>\n",
              "      <td>93398</td>\n",
              "    </tr>\n",
              "    <tr>\n",
              "      <th>citation</th>\n",
              "      <td>115732</td>\n",
              "      <td>79069</td>\n",
              "      <td>72769</td>\n",
              "      <td>74380</td>\n",
              "      <td>252857</td>\n",
              "    </tr>\n",
              "  </tbody>\n",
              "</table>\n",
              "</div>"
            ],
            "text/plain": [
              "subject_race  asian/pacific islander  black  hispanic  other   white\n",
              "outcome                                                             \n",
              "arrest                          1182   3362      2198    880    3852\n",
              "warning                        29983  57376     29288  21417   93398\n",
              "citation                      115732  79069     72769  74380  252857"
            ]
          },
          "metadata": {
            "tags": []
          },
          "execution_count": 24
        }
      ]
    },
    {
      "cell_type": "code",
      "metadata": {
        "id": "heoXdzXk3x1q",
        "colab_type": "code",
        "outputId": "fc628918-be04-4eaf-cda8-d4be6af560ba",
        "colab": {
          "base_uri": "https://localhost:8080/",
          "height": 396
        }
      },
      "source": [
        "# Race based number of arrest \n",
        "outcomes_by_race.loc['arrest'].sort_values().plot(kind='bar')"
      ],
      "execution_count": 0,
      "outputs": [
        {
          "output_type": "execute_result",
          "data": {
            "text/plain": [
              "<matplotlib.axes._subplots.AxesSubplot at 0x7f493ca5f5c0>"
            ]
          },
          "metadata": {
            "tags": []
          },
          "execution_count": 25
        },
        {
          "output_type": "display_data",
          "data": {
            "image/png": "[encoded data removed]",
            "text/plain": [
              "<Figure size 432x288 with 1 Axes>"
            ]
          },
          "metadata": {
            "tags": []
          }
        }
      ]
    },
    {
      "cell_type": "code",
      "metadata": {
        "id": "EDiSfAlK5eJF",
        "colab_type": "code",
        "colab": {}
      },
      "source": [
        ""
      ],
      "execution_count": 0,
      "outputs": []
    },
    {
      "cell_type": "code",
      "metadata": {
        "id": "Sf6CQMpRf9K_",
        "colab_type": "code",
        "outputId": "8f78e83c-fc30-4b43-ad28-3a9cd93bfc27",
        "colab": {
          "base_uri": "https://localhost:8080/",
          "height": 607
        }
      },
      "source": [
        "\n",
        "fig, ((ax1,ax2),(ax3,ax4)) = plt.subplots(2,2,figsize=[10,10])\n",
        "outcomes_by_race.sort_values(by=['black','white']).plot(kind='bar', ax=ax1, color=color, alpha=0.8)\n",
        "outcomes_rate_race.sort_values(by='outcome').plot(kind='bar', ax=ax2, title='Rate')\n",
        "plt.show()"
      ],
      "execution_count": 0,
      "outputs": [
        {
          "output_type": "display_data",
          "data": {
            "image/png": "[encoded data removed]",
            "text/plain": [
              "<Figure size 720x720 with 4 Axes>"
            ]
          },
          "metadata": {
            "tags": []
          }
        }
      ]
    },
    {
      "cell_type": "markdown",
      "metadata": {
        "id": "mpDEXKQq5yP6",
        "colab_type": "text"
      },
      "source": [
        "#Arrest Outcomes"
      ]
    },
    {
      "cell_type": "code",
      "metadata": {
        "id": "XT9s_e9_9Mb_",
        "colab_type": "code",
        "outputId": "9c60a9fc-08eb-4de1-ab4d-14bc7a88a3c3",
        "colab": {
          "base_uri": "https://localhost:8080/",
          "height": 424
        }
      },
      "source": [
        "df.head()"
      ],
      "execution_count": 0,
      "outputs": [
        {
          "output_type": "execute_result",
          "data": {
            "text/html": [
              "<div>\n",
              "<style scoped>\n",
              "    .dataframe tbody tr th:only-of-type {\n",
              "        vertical-align: middle;\n",
              "    }\n",
              "\n",
              "    .dataframe tbody tr th {\n",
              "        vertical-align: top;\n",
              "    }\n",
              "\n",
              "    .dataframe thead th {\n",
              "        text-align: right;\n",
              "    }\n",
              "</style>\n",
              "<table border=\"1\" class=\"dataframe\">\n",
              "  <thead>\n",
              "    <tr style=\"text-align: right;\">\n",
              "      <th></th>\n",
              "      <th>date</th>\n",
              "      <th>time</th>\n",
              "      <th>location</th>\n",
              "      <th>district</th>\n",
              "      <th>subject_age</th>\n",
              "      <th>subject_race</th>\n",
              "      <th>subject_sex</th>\n",
              "      <th>arrest_made</th>\n",
              "      <th>citation_issued</th>\n",
              "      <th>outcome</th>\n",
              "      <th>search_conducted</th>\n",
              "      <th>search_vehicle</th>\n",
              "      <th>reason_for_stop</th>\n",
              "      <th>date_time</th>\n",
              "      <th>outcome_arrest</th>\n",
              "    </tr>\n",
              "    <tr>\n",
              "      <th>raw_row_number</th>\n",
              "      <th></th>\n",
              "      <th></th>\n",
              "      <th></th>\n",
              "      <th></th>\n",
              "      <th></th>\n",
              "      <th></th>\n",
              "      <th></th>\n",
              "      <th></th>\n",
              "      <th></th>\n",
              "      <th></th>\n",
              "      <th></th>\n",
              "      <th></th>\n",
              "      <th></th>\n",
              "      <th></th>\n",
              "      <th></th>\n",
              "    </tr>\n",
              "  </thead>\n",
              "  <tbody>\n",
              "    <tr>\n",
              "      <th>1</th>\n",
              "      <td>2007-01-01</td>\n",
              "      <td>00:11:00</td>\n",
              "      <td>POLK AT OFARRELL</td>\n",
              "      <td>E</td>\n",
              "      <td>20.0</td>\n",
              "      <td>asian/pacific islander</td>\n",
              "      <td>male</td>\n",
              "      <td>False</td>\n",
              "      <td>False</td>\n",
              "      <td>warning</td>\n",
              "      <td>False</td>\n",
              "      <td>False</td>\n",
              "      <td>Moving Violation</td>\n",
              "      <td>2007-01-01 00:11:00</td>\n",
              "      <td>NaN</td>\n",
              "    </tr>\n",
              "    <tr>\n",
              "      <th>2</th>\n",
              "      <td>2007-01-01</td>\n",
              "      <td>00:23:00</td>\n",
              "      <td>ELLIS AND TAYLOR</td>\n",
              "      <td>J</td>\n",
              "      <td>32.0</td>\n",
              "      <td>other</td>\n",
              "      <td>male</td>\n",
              "      <td>False</td>\n",
              "      <td>False</td>\n",
              "      <td>warning</td>\n",
              "      <td>False</td>\n",
              "      <td>False</td>\n",
              "      <td>MPC Violation</td>\n",
              "      <td>2007-01-01 00:23:00</td>\n",
              "      <td>NaN</td>\n",
              "    </tr>\n",
              "    <tr>\n",
              "      <th>3</th>\n",
              "      <td>2007-01-01</td>\n",
              "      <td>00:28:00</td>\n",
              "      <td>101/ARMY</td>\n",
              "      <td>D</td>\n",
              "      <td>27.0</td>\n",
              "      <td>hispanic</td>\n",
              "      <td>male</td>\n",
              "      <td>False</td>\n",
              "      <td>True</td>\n",
              "      <td>citation</td>\n",
              "      <td>False</td>\n",
              "      <td>False</td>\n",
              "      <td>Moving Violation</td>\n",
              "      <td>2007-01-01 00:28:00</td>\n",
              "      <td>NaN</td>\n",
              "    </tr>\n",
              "    <tr>\n",
              "      <th>4</th>\n",
              "      <td>2007-01-01</td>\n",
              "      <td>00:30:00</td>\n",
              "      <td>CHARLES J BRENNAN ANDMARKET</td>\n",
              "      <td>J</td>\n",
              "      <td>23.0</td>\n",
              "      <td>black</td>\n",
              "      <td>male</td>\n",
              "      <td>False</td>\n",
              "      <td>True</td>\n",
              "      <td>citation</td>\n",
              "      <td>True</td>\n",
              "      <td>True</td>\n",
              "      <td>Moving Violation</td>\n",
              "      <td>2007-01-01 00:30:00</td>\n",
              "      <td>NaN</td>\n",
              "    </tr>\n",
              "    <tr>\n",
              "      <th>5</th>\n",
              "      <td>2007-01-01</td>\n",
              "      <td>00:30:00</td>\n",
              "      <td>EMBARCADERO/BROADWAY</td>\n",
              "      <td>E</td>\n",
              "      <td>24.0</td>\n",
              "      <td>hispanic</td>\n",
              "      <td>female</td>\n",
              "      <td>False</td>\n",
              "      <td>True</td>\n",
              "      <td>citation</td>\n",
              "      <td>False</td>\n",
              "      <td>False</td>\n",
              "      <td>Moving Violation</td>\n",
              "      <td>2007-01-01 00:30:00</td>\n",
              "      <td>NaN</td>\n",
              "    </tr>\n",
              "  </tbody>\n",
              "</table>\n",
              "</div>"
            ],
            "text/plain": [
              "                      date      time  ...           date_time outcome_arrest\n",
              "raw_row_number                        ...                                   \n",
              "1               2007-01-01  00:11:00  ... 2007-01-01 00:11:00            NaN\n",
              "2               2007-01-01  00:23:00  ... 2007-01-01 00:23:00            NaN\n",
              "3               2007-01-01  00:28:00  ... 2007-01-01 00:28:00            NaN\n",
              "4               2007-01-01  00:30:00  ... 2007-01-01 00:30:00            NaN\n",
              "5               2007-01-01  00:30:00  ... 2007-01-01 00:30:00            NaN\n",
              "\n",
              "[5 rows x 15 columns]"
            ]
          },
          "metadata": {
            "tags": []
          },
          "execution_count": 27
        }
      ]
    },
    {
      "cell_type": "code",
      "metadata": {
        "id": "_Lv4mu42uJzG",
        "colab_type": "code",
        "outputId": "3e2ec2b1-58a8-4f8a-b2e6-d10178a43789",
        "colab": {
          "base_uri": "https://localhost:8080/",
          "height": 232
        }
      },
      "source": [
        "df[df.outcome=='arrest'].groupby('subject_race')['arrest_made',].sum()"
      ],
      "execution_count": 0,
      "outputs": [
        {
          "output_type": "execute_result",
          "data": {
            "text/html": [
              "<div>\n",
              "<style scoped>\n",
              "    .dataframe tbody tr th:only-of-type {\n",
              "        vertical-align: middle;\n",
              "    }\n",
              "\n",
              "    .dataframe tbody tr th {\n",
              "        vertical-align: top;\n",
              "    }\n",
              "\n",
              "    .dataframe thead th {\n",
              "        text-align: right;\n",
              "    }\n",
              "</style>\n",
              "<table border=\"1\" class=\"dataframe\">\n",
              "  <thead>\n",
              "    <tr style=\"text-align: right;\">\n",
              "      <th></th>\n",
              "      <th>arrest_made</th>\n",
              "    </tr>\n",
              "    <tr>\n",
              "      <th>subject_race</th>\n",
              "      <th></th>\n",
              "    </tr>\n",
              "  </thead>\n",
              "  <tbody>\n",
              "    <tr>\n",
              "      <th>asian/pacific islander</th>\n",
              "      <td>1182.0</td>\n",
              "    </tr>\n",
              "    <tr>\n",
              "      <th>black</th>\n",
              "      <td>3362.0</td>\n",
              "    </tr>\n",
              "    <tr>\n",
              "      <th>hispanic</th>\n",
              "      <td>2198.0</td>\n",
              "    </tr>\n",
              "    <tr>\n",
              "      <th>other</th>\n",
              "      <td>880.0</td>\n",
              "    </tr>\n",
              "    <tr>\n",
              "      <th>white</th>\n",
              "      <td>3852.0</td>\n",
              "    </tr>\n",
              "  </tbody>\n",
              "</table>\n",
              "</div>"
            ],
            "text/plain": [
              "                        arrest_made\n",
              "subject_race                       \n",
              "asian/pacific islander       1182.0\n",
              "black                        3362.0\n",
              "hispanic                     2198.0\n",
              "other                         880.0\n",
              "white                        3852.0"
            ]
          },
          "metadata": {
            "tags": []
          },
          "execution_count": 28
        }
      ]
    },
    {
      "cell_type": "code",
      "metadata": {
        "id": "MSQongIu5w3p",
        "colab_type": "code",
        "colab": {}
      },
      "source": [
        "group = df[['subject_age', 'subject_race','subject_sex', 'outcome' ]].groupby(['outcome','subject_race','subject_sex']).agg(['mean','count'])\n"
      ],
      "execution_count": 0,
      "outputs": []
    },
    {
      "cell_type": "code",
      "metadata": {
        "id": "kjdB2v1K9tV5",
        "colab_type": "code",
        "outputId": "36bd990f-2598-4c35-966d-13d2dc76527f",
        "colab": {
          "base_uri": "https://localhost:8080/",
          "height": 489
        }
      },
      "source": [
        "group.plot(kind='bar')"
      ],
      "execution_count": 0,
      "outputs": [
        {
          "output_type": "execute_result",
          "data": {
            "text/plain": [
              "<matplotlib.axes._subplots.AxesSubplot at 0x7f4938a10ac8>"
            ]
          },
          "metadata": {
            "tags": []
          },
          "execution_count": 30
        },
        {
          "output_type": "display_data",
          "data": {
            "image/png": "[encoded data removed]",
            "text/plain": [
              "<Figure size 432x288 with 1 Axes>"
            ]
          },
          "metadata": {
            "tags": []
          }
        }
      ]
    },
    {
      "cell_type": "code",
      "metadata": {
        "id": "TwhOycIF-Ybq",
        "colab_type": "code",
        "outputId": "d3bdf013-a0f1-4da5-d8ff-ff5f6e86532a",
        "colab": {
          "base_uri": "https://localhost:8080/",
          "height": 250
        }
      },
      "source": [
        "df.groupby('subject_age')['subject_age'].count()"
      ],
      "execution_count": 0,
      "outputs": [
        {
          "output_type": "execute_result",
          "data": {
            "text/plain": [
              "subject_age\n",
              "10.0     10\n",
              "11.0      3\n",
              "12.0      9\n",
              "13.0     13\n",
              "14.0     32\n",
              "         ..\n",
              "96.0      5\n",
              "97.0      4\n",
              "98.0      2\n",
              "99.0     34\n",
              "100.0     4\n",
              "Name: subject_age, Length: 91, dtype: int64"
            ]
          },
          "metadata": {
            "tags": []
          },
          "execution_count": 31
        }
      ]
    },
    {
      "cell_type": "code",
      "metadata": {
        "id": "BPxfDkGnBG-W",
        "colab_type": "code",
        "colab": {}
      },
      "source": [
        "age_hist = df.groupby('subject_age')['subject_age'].count()\n"
      ],
      "execution_count": 0,
      "outputs": []
    },
    {
      "cell_type": "code",
      "metadata": {
        "id": "-bXI8mDeCAdO",
        "colab_type": "code",
        "outputId": "eb55cd48-f5a0-4d7e-f6b2-42d76fb2ee25",
        "colab": {
          "base_uri": "https://localhost:8080/",
          "height": 643
        }
      },
      "source": [
        "age_hist.plot(kind='bar', xticks=[10,20,30,40,50,60,70,80,90,100], figsize=(20,10),color=color)\n",
        "#it is interesting, 25,30,35... there is an increase in driver ages every five year after 25."
      ],
      "execution_count": 0,
      "outputs": [
        {
          "output_type": "execute_result",
          "data": {
            "text/plain": [
              "<matplotlib.axes._subplots.AxesSubplot at 0x7f49388ab2b0>"
            ]
          },
          "metadata": {
            "tags": []
          },
          "execution_count": 33
        },
        {
          "output_type": "display_data",
          "data": {
            "image/png": "[encoded data removed]",
            "text/plain": [
              "<Figure size 1440x720 with 1 Axes>"
            ]
          },
          "metadata": {
            "tags": []
          }
        }
      ]
    },
    {
      "cell_type": "code",
      "metadata": {
        "id": "WmBC4FnoClVJ",
        "colab_type": "code",
        "outputId": "dcf3f356-5c60-40b6-ab45-91e9219c91e3",
        "colab": {
          "base_uri": "https://localhost:8080/",
          "height": 265
        }
      },
      "source": [
        "df.subject_age.hist(bins=50)\n",
        "plt.show()"
      ],
      "execution_count": 0,
      "outputs": [
        {
          "output_type": "display_data",
          "data": {
            "image/png": "[encoded data removed]",
            "text/plain": [
              "<Figure size 432x288 with 1 Axes>"
            ]
          },
          "metadata": {
            "tags": []
          }
        }
      ]
    },
    {
      "cell_type": "code",
      "metadata": {
        "id": "PNq5rtiCKzQy",
        "colab_type": "code",
        "outputId": "582971da-4d01-4052-806b-cff806dab867",
        "colab": {
          "base_uri": "https://localhost:8080/",
          "height": 250
        }
      },
      "source": [
        "race_age_hist = df.groupby(['subject_race','subject_age'])['subject_age'].count()\n",
        "race_age_hist"
      ],
      "execution_count": 0,
      "outputs": [
        {
          "output_type": "execute_result",
          "data": {
            "text/plain": [
              "subject_race            subject_age\n",
              "asian/pacific islander  10.0            1\n",
              "                        12.0            2\n",
              "                        13.0            4\n",
              "                        14.0            5\n",
              "                        15.0            9\n",
              "                                       ..\n",
              "white                   96.0            5\n",
              "                        97.0            4\n",
              "                        98.0            1\n",
              "                        99.0           14\n",
              "                        100.0           4\n",
              "Name: subject_age, Length: 428, dtype: int64"
            ]
          },
          "metadata": {
            "tags": []
          },
          "execution_count": 35
        }
      ]
    },
    {
      "cell_type": "code",
      "metadata": {
        "id": "rFXmAt5CPY2U",
        "colab_type": "code",
        "outputId": "5a2d0ea5-c61c-44b8-9c18-9473e2d78d9b",
        "colab": {
          "base_uri": "https://localhost:8080/",
          "height": 619
        }
      },
      "source": [
        "plt.plot()\n",
        "race_age_hist.loc['white'].plot(kind='bar',alpha=0.5, figsize=(20,10))\n",
        "race_age_hist.loc['black'].plot(kind='bar', color='red', alpha=0.6, figsize=(20,10))\n",
        "race_age_hist.loc['hispanic'].plot(kind='bar', color='orange', alpha=0.6, figsize=(20,10))\n",
        "plt.legend(['white','black','hispanic'],)\n",
        "plt.show()"
      ],
      "execution_count": 0,
      "outputs": [
        {
          "output_type": "display_data",
          "data": {
            "image/png": "[encoded data removed]",
            "text/plain": [
              "<Figure size 1440x720 with 1 Axes>"
            ]
          },
          "metadata": {
            "tags": []
          }
        }
      ]
    },
    {
      "cell_type": "code",
      "metadata": {
        "id": "f6f_hlt7PfjE",
        "colab_type": "code",
        "outputId": "b5a8f5cd-2cea-48e5-ca0f-59ac7a262845",
        "colab": {
          "base_uri": "https://localhost:8080/",
          "height": 310
        }
      },
      "source": [
        "race_age_hist.loc['black'].plot(kind='bar')"
      ],
      "execution_count": 0,
      "outputs": [
        {
          "output_type": "execute_result",
          "data": {
            "text/plain": [
              "<matplotlib.axes._subplots.AxesSubplot at 0x7f49385e6da0>"
            ]
          },
          "metadata": {
            "tags": []
          },
          "execution_count": 37
        },
        {
          "output_type": "display_data",
          "data": {
            "image/png": "[encoded data removed]",
            "text/plain": [
              "<Figure size 432x288 with 1 Axes>"
            ]
          },
          "metadata": {
            "tags": []
          }
        }
      ]
    },
    {
      "cell_type": "code",
      "metadata": {
        "id": "doGkC3bAS4MS",
        "colab_type": "code",
        "outputId": "0724caf0-f90d-43e1-884b-99874dd7c35c",
        "colab": {
          "base_uri": "https://localhost:8080/",
          "height": 530
        }
      },
      "source": [
        "fig, ax = plt.subplots()\n",
        "pd.crosstab(index=df.subject_age,columns=df.subject_race,normalize='columns' ).plot(kind='bar', \n",
        "                                                                                    figsize=(25,8), \n",
        "                                                                                    color=color, \n",
        "                                                                                    alpha=0.8, \n",
        "                                                                                    legend=True, \n",
        "                                                                                    ax=ax)\n",
        "ax.set_xlim([5,25])\n",
        "plt.show()"
      ],
      "execution_count": 0,
      "outputs": [
        {
          "output_type": "display_data",
          "data": {
            "image/png": "[encoded data removed]",
            "text/plain": [
              "<Figure size 1800x576 with 1 Axes>"
            ]
          },
          "metadata": {
            "tags": []
          }
        }
      ]
    },
    {
      "cell_type": "code",
      "metadata": {
        "id": "C-YgkD1QXOeF",
        "colab_type": "code",
        "outputId": "a1c79157-488b-43b5-ff87-6bf0372f7b4d",
        "colab": {
          "base_uri": "https://localhost:8080/",
          "height": 530
        }
      },
      "source": [
        "fig, ax = plt.subplots()\n",
        "pd.crosstab(index=df.subject_age,columns=df.subject_race,normalize='columns' ).plot(kind='bar', \n",
        "                                                                                    figsize=(25,8), \n",
        "                                                                                    color=color, \n",
        "                                                                                    alpha=0.8, \n",
        "                                                                                    legend=True, \n",
        "                                                                                    ax=ax)\n",
        "ax.set_xlim([24,50])\n",
        "plt.show()"
      ],
      "execution_count": 0,
      "outputs": [
        {
          "output_type": "display_data",
          "data": {
            "image/png": "[encoded data removed]",
            "text/plain": [
              "<Figure size 1800x576 with 1 Axes>"
            ]
          },
          "metadata": {
            "tags": []
          }
        }
      ]
    },
    {
      "cell_type": "code",
      "metadata": {
        "id": "gPFzk2gdvg76",
        "colab_type": "code",
        "colab": {}
      },
      "source": [
        ""
      ],
      "execution_count": 0,
      "outputs": []
    }
  ]
}